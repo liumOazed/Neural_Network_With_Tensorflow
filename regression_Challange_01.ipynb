{
  "nbformat": 4,
  "nbformat_minor": 0,
  "metadata": {
    "colab": {
      "name": "regression_Challange_01.ipynb",
      "provenance": [],
      "collapsed_sections": [],
      "authorship_tag": "ABX9TyN3gAiKxZvcTarzyjFtG4V1",
      "include_colab_link": true
    },
    "kernelspec": {
      "name": "python3",
      "display_name": "Python 3"
    },
    "language_info": {
      "name": "python"
    }
  },
  "cells": [
    {
      "cell_type": "markdown",
      "metadata": {
        "id": "view-in-github",
        "colab_type": "text"
      },
      "source": [
        "<a href=\"https://colab.research.google.com/github/liumOazed/Neural_Network_With_Tensorflow/blob/main/regression_Challange_01.ipynb\" target=\"_parent\"><img src=\"https://colab.research.google.com/assets/colab-badge.svg\" alt=\"Open In Colab\"/></a>"
      ]
    },
    {
      "cell_type": "code",
      "source": [
        "import tensorflow as tf\n",
        "import pandas as pd\n",
        "import matplotlib.pyplot as plt"
      ],
      "metadata": {
        "id": "DOAFhixz6VNE"
      },
      "execution_count": null,
      "outputs": []
    },
    {
      "cell_type": "code",
      "source": [
        ""
      ],
      "metadata": {
        "id": "Vqqifwc3tm2p"
      },
      "execution_count": null,
      "outputs": []
    },
    {
      "cell_type": "code",
      "execution_count": null,
      "metadata": {
        "id": "gjlu-pZA4MDr"
      },
      "outputs": [],
      "source": [
        "# Creating own regression dataset\n",
        "X = tf.range(-1000, 1000, 2)\n"
      ]
    },
    {
      "cell_type": "code",
      "source": [
        "y = X - 20\n"
      ],
      "metadata": {
        "id": "H3PUJjFk6R_d"
      },
      "execution_count": null,
      "outputs": []
    },
    {
      "cell_type": "code",
      "source": [
        "X_train = X[:700]\n",
        "y_train = y[:700]\n",
        "X_test = X[700:]\n",
        "y_test = y[700:]\n",
        "len(X_train), len(X_test), len(y_train), len(y_test)"
      ],
      "metadata": {
        "colab": {
          "base_uri": "https://localhost:8080/"
        },
        "id": "DJwpUblJ-Oie",
        "outputId": "b9f76e2c-f308-49ef-ca96-2dea569a6741"
      },
      "execution_count": null,
      "outputs": [
        {
          "output_type": "execute_result",
          "data": {
            "text/plain": [
              "(700, 300, 700, 300)"
            ]
          },
          "metadata": {},
          "execution_count": 47
        }
      ]
    },
    {
      "cell_type": "code",
      "source": [
        "len(X), len(y)"
      ],
      "metadata": {
        "colab": {
          "base_uri": "https://localhost:8080/"
        },
        "id": "GHt02qwM-xxH",
        "outputId": "0840fd9f-fa5e-4daf-e24c-612ab834578b"
      },
      "execution_count": null,
      "outputs": [
        {
          "output_type": "execute_result",
          "data": {
            "text/plain": [
              "(1000, 1000)"
            ]
          },
          "metadata": {},
          "execution_count": 48
        }
      ]
    },
    {
      "cell_type": "code",
      "source": [
        "y_train"
      ],
      "metadata": {
        "colab": {
          "base_uri": "https://localhost:8080/"
        },
        "id": "8oxYcPnDDBqM",
        "outputId": "8ed36af7-3162-4297-9058-08b212d67ced"
      },
      "execution_count": null,
      "outputs": [
        {
          "output_type": "execute_result",
          "data": {
            "text/plain": [
              "<tf.Tensor: shape=(700,), dtype=int32, numpy=\n",
              "array([-1020, -1018, -1016, -1014, -1012, -1010, -1008, -1006, -1004,\n",
              "       -1002, -1000,  -998,  -996,  -994,  -992,  -990,  -988,  -986,\n",
              "        -984,  -982,  -980,  -978,  -976,  -974,  -972,  -970,  -968,\n",
              "        -966,  -964,  -962,  -960,  -958,  -956,  -954,  -952,  -950,\n",
              "        -948,  -946,  -944,  -942,  -940,  -938,  -936,  -934,  -932,\n",
              "        -930,  -928,  -926,  -924,  -922,  -920,  -918,  -916,  -914,\n",
              "        -912,  -910,  -908,  -906,  -904,  -902,  -900,  -898,  -896,\n",
              "        -894,  -892,  -890,  -888,  -886,  -884,  -882,  -880,  -878,\n",
              "        -876,  -874,  -872,  -870,  -868,  -866,  -864,  -862,  -860,\n",
              "        -858,  -856,  -854,  -852,  -850,  -848,  -846,  -844,  -842,\n",
              "        -840,  -838,  -836,  -834,  -832,  -830,  -828,  -826,  -824,\n",
              "        -822,  -820,  -818,  -816,  -814,  -812,  -810,  -808,  -806,\n",
              "        -804,  -802,  -800,  -798,  -796,  -794,  -792,  -790,  -788,\n",
              "        -786,  -784,  -782,  -780,  -778,  -776,  -774,  -772,  -770,\n",
              "        -768,  -766,  -764,  -762,  -760,  -758,  -756,  -754,  -752,\n",
              "        -750,  -748,  -746,  -744,  -742,  -740,  -738,  -736,  -734,\n",
              "        -732,  -730,  -728,  -726,  -724,  -722,  -720,  -718,  -716,\n",
              "        -714,  -712,  -710,  -708,  -706,  -704,  -702,  -700,  -698,\n",
              "        -696,  -694,  -692,  -690,  -688,  -686,  -684,  -682,  -680,\n",
              "        -678,  -676,  -674,  -672,  -670,  -668,  -666,  -664,  -662,\n",
              "        -660,  -658,  -656,  -654,  -652,  -650,  -648,  -646,  -644,\n",
              "        -642,  -640,  -638,  -636,  -634,  -632,  -630,  -628,  -626,\n",
              "        -624,  -622,  -620,  -618,  -616,  -614,  -612,  -610,  -608,\n",
              "        -606,  -604,  -602,  -600,  -598,  -596,  -594,  -592,  -590,\n",
              "        -588,  -586,  -584,  -582,  -580,  -578,  -576,  -574,  -572,\n",
              "        -570,  -568,  -566,  -564,  -562,  -560,  -558,  -556,  -554,\n",
              "        -552,  -550,  -548,  -546,  -544,  -542,  -540,  -538,  -536,\n",
              "        -534,  -532,  -530,  -528,  -526,  -524,  -522,  -520,  -518,\n",
              "        -516,  -514,  -512,  -510,  -508,  -506,  -504,  -502,  -500,\n",
              "        -498,  -496,  -494,  -492,  -490,  -488,  -486,  -484,  -482,\n",
              "        -480,  -478,  -476,  -474,  -472,  -470,  -468,  -466,  -464,\n",
              "        -462,  -460,  -458,  -456,  -454,  -452,  -450,  -448,  -446,\n",
              "        -444,  -442,  -440,  -438,  -436,  -434,  -432,  -430,  -428,\n",
              "        -426,  -424,  -422,  -420,  -418,  -416,  -414,  -412,  -410,\n",
              "        -408,  -406,  -404,  -402,  -400,  -398,  -396,  -394,  -392,\n",
              "        -390,  -388,  -386,  -384,  -382,  -380,  -378,  -376,  -374,\n",
              "        -372,  -370,  -368,  -366,  -364,  -362,  -360,  -358,  -356,\n",
              "        -354,  -352,  -350,  -348,  -346,  -344,  -342,  -340,  -338,\n",
              "        -336,  -334,  -332,  -330,  -328,  -326,  -324,  -322,  -320,\n",
              "        -318,  -316,  -314,  -312,  -310,  -308,  -306,  -304,  -302,\n",
              "        -300,  -298,  -296,  -294,  -292,  -290,  -288,  -286,  -284,\n",
              "        -282,  -280,  -278,  -276,  -274,  -272,  -270,  -268,  -266,\n",
              "        -264,  -262,  -260,  -258,  -256,  -254,  -252,  -250,  -248,\n",
              "        -246,  -244,  -242,  -240,  -238,  -236,  -234,  -232,  -230,\n",
              "        -228,  -226,  -224,  -222,  -220,  -218,  -216,  -214,  -212,\n",
              "        -210,  -208,  -206,  -204,  -202,  -200,  -198,  -196,  -194,\n",
              "        -192,  -190,  -188,  -186,  -184,  -182,  -180,  -178,  -176,\n",
              "        -174,  -172,  -170,  -168,  -166,  -164,  -162,  -160,  -158,\n",
              "        -156,  -154,  -152,  -150,  -148,  -146,  -144,  -142,  -140,\n",
              "        -138,  -136,  -134,  -132,  -130,  -128,  -126,  -124,  -122,\n",
              "        -120,  -118,  -116,  -114,  -112,  -110,  -108,  -106,  -104,\n",
              "        -102,  -100,   -98,   -96,   -94,   -92,   -90,   -88,   -86,\n",
              "         -84,   -82,   -80,   -78,   -76,   -74,   -72,   -70,   -68,\n",
              "         -66,   -64,   -62,   -60,   -58,   -56,   -54,   -52,   -50,\n",
              "         -48,   -46,   -44,   -42,   -40,   -38,   -36,   -34,   -32,\n",
              "         -30,   -28,   -26,   -24,   -22,   -20,   -18,   -16,   -14,\n",
              "         -12,   -10,    -8,    -6,    -4,    -2,     0,     2,     4,\n",
              "           6,     8,    10,    12,    14,    16,    18,    20,    22,\n",
              "          24,    26,    28,    30,    32,    34,    36,    38,    40,\n",
              "          42,    44,    46,    48,    50,    52,    54,    56,    58,\n",
              "          60,    62,    64,    66,    68,    70,    72,    74,    76,\n",
              "          78,    80,    82,    84,    86,    88,    90,    92,    94,\n",
              "          96,    98,   100,   102,   104,   106,   108,   110,   112,\n",
              "         114,   116,   118,   120,   122,   124,   126,   128,   130,\n",
              "         132,   134,   136,   138,   140,   142,   144,   146,   148,\n",
              "         150,   152,   154,   156,   158,   160,   162,   164,   166,\n",
              "         168,   170,   172,   174,   176,   178,   180,   182,   184,\n",
              "         186,   188,   190,   192,   194,   196,   198,   200,   202,\n",
              "         204,   206,   208,   210,   212,   214,   216,   218,   220,\n",
              "         222,   224,   226,   228,   230,   232,   234,   236,   238,\n",
              "         240,   242,   244,   246,   248,   250,   252,   254,   256,\n",
              "         258,   260,   262,   264,   266,   268,   270,   272,   274,\n",
              "         276,   278,   280,   282,   284,   286,   288,   290,   292,\n",
              "         294,   296,   298,   300,   302,   304,   306,   308,   310,\n",
              "         312,   314,   316,   318,   320,   322,   324,   326,   328,\n",
              "         330,   332,   334,   336,   338,   340,   342,   344,   346,\n",
              "         348,   350,   352,   354,   356,   358,   360,   362,   364,\n",
              "         366,   368,   370,   372,   374,   376,   378], dtype=int32)>"
            ]
          },
          "metadata": {},
          "execution_count": 49
        }
      ]
    },
    {
      "cell_type": "code",
      "source": [
        "# Lets create a model to predic y label\n",
        "tf.random_seed = 42\n",
        "callback = tf.keras.callbacks.EarlyStopping(monitor='loss', patience=3)\n",
        "\n",
        "# 1. create model \n",
        "        tf.keras.layers.Dense(10),\n",
        "        tf.keras.layers.Dense(100),\n",
        "        tf.keras.layers.Dense(10),\n",
        "        tf.keras.layers.Dense(1)\n",
        "])\n",
        "\n",
        "# 2. compile the model\n",
        "model.compile(loss=\"mae\", optimizer = tf.keras.optimizers.Adam(),\n",
        "              metrics=[\"mae\"])\n",
        "\n",
        "# 3. Fit the model\n",
        "history = model.fit(tf.expand_dims(X_train, axis=-1), y_train,callbacks=[callback], epochs=400)"
      ],
      "metadata": {
        "colab": {
          "base_uri": "https://localhost:8080/"
        },
        "id": "k5hl9OzC_YlX",
        "outputId": "6165204e-4884-4dc0-809f-94fa2ed001a3"
      },
      "execution_count": null,
      "outputs": [
        {
          "output_type": "stream",
          "name": "stdout",
          "text": [
            "Epoch 1/400\n",
            "22/22 [==============================] - 0s 2ms/step - loss: 170.7346 - mae: 170.7346\n",
            "Epoch 2/400\n",
            "22/22 [==============================] - 0s 2ms/step - loss: 27.5580 - mae: 27.5580\n",
            "Epoch 3/400\n",
            "22/22 [==============================] - 0s 2ms/step - loss: 16.8191 - mae: 16.8191\n",
            "Epoch 4/400\n",
            "22/22 [==============================] - 0s 2ms/step - loss: 12.8633 - mae: 12.8633\n",
            "Epoch 5/400\n",
            "22/22 [==============================] - 0s 2ms/step - loss: 12.9208 - mae: 12.9208\n",
            "Epoch 6/400\n",
            "22/22 [==============================] - 0s 2ms/step - loss: 13.1415 - mae: 13.1415\n",
            "Epoch 7/400\n",
            "22/22 [==============================] - 0s 2ms/step - loss: 12.2846 - mae: 12.2846\n",
            "Epoch 8/400\n",
            "22/22 [==============================] - 0s 2ms/step - loss: 12.2145 - mae: 12.2145\n",
            "Epoch 9/400\n",
            "22/22 [==============================] - 0s 2ms/step - loss: 12.2146 - mae: 12.2146\n",
            "Epoch 10/400\n",
            "22/22 [==============================] - 0s 2ms/step - loss: 11.9882 - mae: 11.9882\n",
            "Epoch 11/400\n",
            "22/22 [==============================] - 0s 2ms/step - loss: 13.5133 - mae: 13.5133\n",
            "Epoch 12/400\n",
            "22/22 [==============================] - 0s 2ms/step - loss: 14.1433 - mae: 14.1433\n",
            "Epoch 13/400\n",
            "22/22 [==============================] - 0s 2ms/step - loss: 11.2814 - mae: 11.2814\n",
            "Epoch 14/400\n",
            "22/22 [==============================] - 0s 2ms/step - loss: 11.3015 - mae: 11.3015\n",
            "Epoch 15/400\n",
            "22/22 [==============================] - 0s 2ms/step - loss: 11.5782 - mae: 11.5782\n",
            "Epoch 16/400\n",
            "22/22 [==============================] - 0s 2ms/step - loss: 13.7303 - mae: 13.7303\n"
          ]
        }
      ]
    },
    {
      "cell_type": "code",
      "source": [
        "# make prediction base on X_test labels\n",
        "y_pred = model.predict(X_test)\n",
        "y_pred, y_test"
      ],
      "metadata": {
        "colab": {
          "base_uri": "https://localhost:8080/"
        },
        "id": "1RHCX8t3FDuf",
        "outputId": "0886b9c7-7ae1-4364-88c5-9d3a8de40a11"
      },
      "execution_count": null,
      "outputs": [
        {
          "output_type": "execute_result",
          "data": {
            "text/plain": [
              "(array([[393.64185],\n",
              "        [395.63672],\n",
              "        [397.63162],\n",
              "        [399.6266 ],\n",
              "        [401.6215 ],\n",
              "        [403.61636],\n",
              "        [405.6114 ],\n",
              "        [407.60632],\n",
              "        [409.60126],\n",
              "        [411.5961 ],\n",
              "        [413.5911 ],\n",
              "        [415.586  ],\n",
              "        [417.5809 ],\n",
              "        [419.57584],\n",
              "        [421.57077],\n",
              "        [423.56567],\n",
              "        [425.56067],\n",
              "        [427.5555 ],\n",
              "        [429.55057],\n",
              "        [431.5454 ],\n",
              "        [433.54034],\n",
              "        [435.53534],\n",
              "        [437.53018],\n",
              "        [439.5252 ],\n",
              "        [441.52002],\n",
              "        [443.51495],\n",
              "        [445.50992],\n",
              "        [447.50482],\n",
              "        [449.49973],\n",
              "        [451.49463],\n",
              "        [453.48965],\n",
              "        [455.48453],\n",
              "        [457.4795 ],\n",
              "        [459.4744 ],\n",
              "        [461.4693 ],\n",
              "        [463.46426],\n",
              "        [465.4592 ],\n",
              "        [467.45404],\n",
              "        [469.449  ],\n",
              "        [471.44394],\n",
              "        [473.43887],\n",
              "        [475.43378],\n",
              "        [477.42877],\n",
              "        [479.42365],\n",
              "        [481.41858],\n",
              "        [483.41357],\n",
              "        [485.40842],\n",
              "        [487.40332],\n",
              "        [489.39832],\n",
              "        [491.39325],\n",
              "        [493.38812],\n",
              "        [495.38312],\n",
              "        [497.378  ],\n",
              "        [499.37296],\n",
              "        [501.36792],\n",
              "        [503.36273],\n",
              "        [505.35773],\n",
              "        [507.35257],\n",
              "        [509.34763],\n",
              "        [511.3425 ],\n",
              "        [513.33746],\n",
              "        [515.33234],\n",
              "        [517.32733],\n",
              "        [519.3222 ],\n",
              "        [521.31714],\n",
              "        [523.3121 ],\n",
              "        [525.307  ],\n",
              "        [527.3019 ],\n",
              "        [529.2969 ],\n",
              "        [531.2918 ],\n",
              "        [533.28674],\n",
              "        [535.2816 ],\n",
              "        [537.2766 ],\n",
              "        [539.2715 ],\n",
              "        [541.2664 ],\n",
              "        [543.26135],\n",
              "        [545.2563 ],\n",
              "        [547.2512 ],\n",
              "        [549.24615],\n",
              "        [551.2411 ],\n",
              "        [553.2361 ],\n",
              "        [555.2309 ],\n",
              "        [557.2258 ],\n",
              "        [559.22076],\n",
              "        [561.21576],\n",
              "        [563.21063],\n",
              "        [565.20557],\n",
              "        [567.2005 ],\n",
              "        [569.1954 ],\n",
              "        [571.19037],\n",
              "        [573.1853 ],\n",
              "        [575.1802 ],\n",
              "        [577.1752 ],\n",
              "        [579.1701 ],\n",
              "        [581.1649 ],\n",
              "        [583.1599 ],\n",
              "        [585.1548 ],\n",
              "        [587.1497 ],\n",
              "        [589.14465],\n",
              "        [591.1396 ],\n",
              "        [593.1345 ],\n",
              "        [595.1294 ],\n",
              "        [597.1243 ],\n",
              "        [599.1193 ],\n",
              "        [601.11426],\n",
              "        [603.1091 ],\n",
              "        [605.1041 ],\n",
              "        [607.099  ],\n",
              "        [609.09393],\n",
              "        [611.08887],\n",
              "        [613.08374],\n",
              "        [615.0787 ],\n",
              "        [617.07367],\n",
              "        [619.0686 ],\n",
              "        [621.0635 ],\n",
              "        [623.0585 ],\n",
              "        [625.0534 ],\n",
              "        [627.0482 ],\n",
              "        [629.04333],\n",
              "        [631.03815],\n",
              "        [633.0331 ],\n",
              "        [635.02795],\n",
              "        [637.0229 ],\n",
              "        [639.0179 ],\n",
              "        [641.0128 ],\n",
              "        [643.00775],\n",
              "        [645.0026 ],\n",
              "        [646.99756],\n",
              "        [648.9925 ],\n",
              "        [650.98737],\n",
              "        [652.98236],\n",
              "        [654.97736],\n",
              "        [656.9722 ],\n",
              "        [658.9671 ],\n",
              "        [660.9621 ],\n",
              "        [662.9569 ],\n",
              "        [664.9519 ],\n",
              "        [666.94684],\n",
              "        [668.9417 ],\n",
              "        [670.93665],\n",
              "        [672.9316 ],\n",
              "        [674.92645],\n",
              "        [676.9215 ],\n",
              "        [678.9164 ],\n",
              "        [680.91125],\n",
              "        [682.90625],\n",
              "        [684.9012 ],\n",
              "        [686.89606],\n",
              "        [688.89105],\n",
              "        [690.886  ],\n",
              "        [692.88086],\n",
              "        [694.8758 ],\n",
              "        [696.8708 ],\n",
              "        [698.8657 ],\n",
              "        [700.86053],\n",
              "        [702.8555 ],\n",
              "        [704.8505 ],\n",
              "        [706.8454 ],\n",
              "        [708.84033],\n",
              "        [710.83527],\n",
              "        [712.83014],\n",
              "        [714.8251 ],\n",
              "        [716.82007],\n",
              "        [718.815  ],\n",
              "        [720.8098 ],\n",
              "        [722.8048 ],\n",
              "        [724.7997 ],\n",
              "        [726.7947 ],\n",
              "        [728.7896 ],\n",
              "        [730.7845 ],\n",
              "        [732.77936],\n",
              "        [734.77435],\n",
              "        [736.7693 ],\n",
              "        [738.7643 ],\n",
              "        [740.7592 ],\n",
              "        [742.754  ],\n",
              "        [744.749  ],\n",
              "        [746.74384],\n",
              "        [748.7389 ],\n",
              "        [750.7337 ],\n",
              "        [752.7287 ],\n",
              "        [754.72363],\n",
              "        [756.7185 ],\n",
              "        [758.7135 ],\n",
              "        [760.70844],\n",
              "        [762.7033 ],\n",
              "        [764.69824],\n",
              "        [766.6931 ],\n",
              "        [768.6882 ],\n",
              "        [770.68304],\n",
              "        [772.678  ],\n",
              "        [774.67285],\n",
              "        [776.6679 ],\n",
              "        [778.6628 ],\n",
              "        [780.6578 ],\n",
              "        [782.6526 ],\n",
              "        [784.6474 ],\n",
              "        [786.6425 ],\n",
              "        [788.6374 ],\n",
              "        [790.6323 ],\n",
              "        [792.62726],\n",
              "        [794.6222 ],\n",
              "        [796.617  ],\n",
              "        [798.612  ],\n",
              "        [800.60693],\n",
              "        [802.6019 ],\n",
              "        [804.59674],\n",
              "        [806.59174],\n",
              "        [808.5866 ],\n",
              "        [810.5817 ],\n",
              "        [812.5764 ],\n",
              "        [814.57153],\n",
              "        [816.5664 ],\n",
              "        [818.5613 ],\n",
              "        [820.5562 ],\n",
              "        [822.5513 ],\n",
              "        [824.5461 ],\n",
              "        [826.54114],\n",
              "        [828.536  ],\n",
              "        [830.53094],\n",
              "        [832.52576],\n",
              "        [834.5208 ],\n",
              "        [836.5156 ],\n",
              "        [838.5106 ],\n",
              "        [840.50543],\n",
              "        [842.5004 ],\n",
              "        [844.4955 ],\n",
              "        [846.4903 ],\n",
              "        [848.48517],\n",
              "        [850.48004],\n",
              "        [852.47516],\n",
              "        [854.4699 ],\n",
              "        [856.46484],\n",
              "        [858.45984],\n",
              "        [860.4547 ],\n",
              "        [862.4497 ],\n",
              "        [864.4447 ],\n",
              "        [866.4395 ],\n",
              "        [868.4345 ],\n",
              "        [870.4293 ],\n",
              "        [872.42426],\n",
              "        [874.41925],\n",
              "        [876.41406],\n",
              "        [878.409  ],\n",
              "        [880.404  ],\n",
              "        [882.3989 ],\n",
              "        [884.39374],\n",
              "        [886.3888 ],\n",
              "        [888.38367],\n",
              "        [890.37866],\n",
              "        [892.37354],\n",
              "        [894.36835],\n",
              "        [896.3634 ],\n",
              "        [898.35834],\n",
              "        [900.3533 ],\n",
              "        [902.34827],\n",
              "        [904.34314],\n",
              "        [906.33813],\n",
              "        [908.33295],\n",
              "        [910.32794],\n",
              "        [912.32275],\n",
              "        [914.31775],\n",
              "        [916.3128 ],\n",
              "        [918.3077 ],\n",
              "        [920.30255],\n",
              "        [922.29755],\n",
              "        [924.2924 ],\n",
              "        [926.2874 ],\n",
              "        [928.28235],\n",
              "        [930.2772 ],\n",
              "        [932.27203],\n",
              "        [934.267  ],\n",
              "        [936.2619 ],\n",
              "        [938.25684],\n",
              "        [940.25165],\n",
              "        [942.24677],\n",
              "        [944.24164],\n",
              "        [946.2366 ],\n",
              "        [948.23145],\n",
              "        [950.2265 ],\n",
              "        [952.22144],\n",
              "        [954.2163 ],\n",
              "        [956.21136],\n",
              "        [958.2061 ],\n",
              "        [960.201  ],\n",
              "        [962.1961 ],\n",
              "        [964.191  ],\n",
              "        [966.18585],\n",
              "        [968.1807 ],\n",
              "        [970.1758 ],\n",
              "        [972.1708 ],\n",
              "        [974.16565],\n",
              "        [976.1605 ],\n",
              "        [978.15546],\n",
              "        [980.1503 ],\n",
              "        [982.14526],\n",
              "        [984.1403 ],\n",
              "        [986.13525],\n",
              "        [988.1301 ],\n",
              "        [990.12494]], dtype=float32),\n",
              " <tf.Tensor: shape=(300,), dtype=int32, numpy=\n",
              " array([380, 382, 384, 386, 388, 390, 392, 394, 396, 398, 400, 402, 404,\n",
              "        406, 408, 410, 412, 414, 416, 418, 420, 422, 424, 426, 428, 430,\n",
              "        432, 434, 436, 438, 440, 442, 444, 446, 448, 450, 452, 454, 456,\n",
              "        458, 460, 462, 464, 466, 468, 470, 472, 474, 476, 478, 480, 482,\n",
              "        484, 486, 488, 490, 492, 494, 496, 498, 500, 502, 504, 506, 508,\n",
              "        510, 512, 514, 516, 518, 520, 522, 524, 526, 528, 530, 532, 534,\n",
              "        536, 538, 540, 542, 544, 546, 548, 550, 552, 554, 556, 558, 560,\n",
              "        562, 564, 566, 568, 570, 572, 574, 576, 578, 580, 582, 584, 586,\n",
              "        588, 590, 592, 594, 596, 598, 600, 602, 604, 606, 608, 610, 612,\n",
              "        614, 616, 618, 620, 622, 624, 626, 628, 630, 632, 634, 636, 638,\n",
              "        640, 642, 644, 646, 648, 650, 652, 654, 656, 658, 660, 662, 664,\n",
              "        666, 668, 670, 672, 674, 676, 678, 680, 682, 684, 686, 688, 690,\n",
              "        692, 694, 696, 698, 700, 702, 704, 706, 708, 710, 712, 714, 716,\n",
              "        718, 720, 722, 724, 726, 728, 730, 732, 734, 736, 738, 740, 742,\n",
              "        744, 746, 748, 750, 752, 754, 756, 758, 760, 762, 764, 766, 768,\n",
              "        770, 772, 774, 776, 778, 780, 782, 784, 786, 788, 790, 792, 794,\n",
              "        796, 798, 800, 802, 804, 806, 808, 810, 812, 814, 816, 818, 820,\n",
              "        822, 824, 826, 828, 830, 832, 834, 836, 838, 840, 842, 844, 846,\n",
              "        848, 850, 852, 854, 856, 858, 860, 862, 864, 866, 868, 870, 872,\n",
              "        874, 876, 878, 880, 882, 884, 886, 888, 890, 892, 894, 896, 898,\n",
              "        900, 902, 904, 906, 908, 910, 912, 914, 916, 918, 920, 922, 924,\n",
              "        926, 928, 930, 932, 934, 936, 938, 940, 942, 944, 946, 948, 950,\n",
              "        952, 954, 956, 958, 960, 962, 964, 966, 968, 970, 972, 974, 976,\n",
              "        978], dtype=int32)>)"
            ]
          },
          "metadata": {},
          "execution_count": 51
        }
      ]
    },
    {
      "cell_type": "code",
      "source": [
        "model.evaluate(X_test,y_test)"
      ],
      "metadata": {
        "colab": {
          "base_uri": "https://localhost:8080/"
        },
        "id": "VJ0AEq04FcQO",
        "outputId": "1d4dbb16-0178-4b73-ff49-43d897aff865"
      },
      "execution_count": null,
      "outputs": [
        {
          "output_type": "stream",
          "name": "stdout",
          "text": [
            "10/10 [==============================] - 0s 2ms/step - loss: 12.8834 - mae: 12.8834\n"
          ]
        },
        {
          "output_type": "execute_result",
          "data": {
            "text/plain": [
              "[12.883411407470703, 12.883411407470703]"
            ]
          },
          "metadata": {},
          "execution_count": 52
        }
      ]
    },
    {
      "cell_type": "code",
      "source": [
        "def plot_prediction(train_data=X_train,\n",
        "                    train_label = y_train,\n",
        "                    test_data = X_test,\n",
        "                    test_label = y_test,\n",
        "                    predicted_data =y_pred ):\n",
        "  \n",
        "  \"\"\"A function that visualize the data with prediction\"\"\"\n",
        "  plt.figure(figsize=(10,7))\n",
        "  # Plot training data in blue\n",
        "  plt.scatter(train_data, train_label, c=\"b\", label=\"Training data\")\n",
        "  # Plot testing data in green\n",
        "  plt.scatter(test_data, test_label, c=\"g\", label=\"Testing data\")\n",
        "  # Plot predicted data in red\n",
        "  plt.scatter(test_data,predicted_data, c=\"r\", label=\"Predicted Data\")\n",
        "  # Show the legend\n",
        "  plt.legend();\n",
        "\n"
      ],
      "metadata": {
        "id": "doS31hxH6lBL"
      },
      "execution_count": null,
      "outputs": []
    },
    {
      "cell_type": "code",
      "source": [
        "plot_prediction(X_train, y_train,X_test,y_test, y_pred)"
      ],
      "metadata": {
        "colab": {
          "base_uri": "https://localhost:8080/",
          "height": 428
        },
        "id": "ljrt7mS9-Ikp",
        "outputId": "c7fa824a-6947-4f68-8bcb-bac3179b6489"
      },
      "execution_count": null,
      "outputs": [
        {
          "output_type": "display_data",
          "data": {
            "text/plain": [
              "<Figure size 720x504 with 1 Axes>"
            ],
            "image/png": "[encoded data removed]"
          },
          "metadata": {
            "needs_background": "light"
          }
        }
      ]
    },
    {
      "cell_type": "code",
      "source": [
        "pd.DataFrame(history.history).plot()\n",
        "plt.ylabel(\"mae\")\n",
        "plt.xlabel(\"epochs\")"
      ],
      "metadata": {
        "colab": {
          "base_uri": "https://localhost:8080/",
          "height": 296
        },
        "id": "ZDdI0C6SFzvH",
        "outputId": "98fb13fb-7105-4383-bf0c-3454b51a26ec"
      },
      "execution_count": null,
      "outputs": [
        {
          "output_type": "execute_result",
          "data": {
            "text/plain": [
              "Text(0.5, 0, 'epochs')"
            ]
          },
          "metadata": {},
          "execution_count": 55
        },
        {
          "output_type": "display_data",
          "data": {
            "text/plain": [
              "<Figure size 432x288 with 1 Axes>"
            ],
            "image/png": "[encoded data removed]"
          },
          "metadata": {
            "needs_background": "light"
          }
        }
      ]
    },
    {
      "cell_type": "code",
      "source": [
        "# Load data\n",
        "data = tf.keras.datasets.boston_housing.load_data(\n",
        "    path='boston_housing.npz'\n",
        ")"
      ],
      "metadata": {
        "id": "rl-w_9HHGiEA"
      },
      "execution_count": null,
      "outputs": []
    },
    {
      "cell_type": "code",
      "source": [
        "data"
      ],
      "metadata": {
        "colab": {
          "base_uri": "https://localhost:8080/"
        },
        "id": "N7eRIk2OH50q",
        "outputId": "1e21174e-0929-4f41-e2e6-74c4b36c1a62"
      },
      "execution_count": null,
      "outputs": [
        {
          "output_type": "execute_result",
          "data": {
            "text/plain": [
              "((array([[1.23247e+00, 0.00000e+00, 8.14000e+00, ..., 2.10000e+01,\n",
              "          3.96900e+02, 1.87200e+01],\n",
              "         [2.17700e-02, 8.25000e+01, 2.03000e+00, ..., 1.47000e+01,\n",
              "          3.95380e+02, 3.11000e+00],\n",
              "         [4.89822e+00, 0.00000e+00, 1.81000e+01, ..., 2.02000e+01,\n",
              "          3.75520e+02, 3.26000e+00],\n",
              "         ...,\n",
              "         [3.46600e-02, 3.50000e+01, 6.06000e+00, ..., 1.69000e+01,\n",
              "          3.62250e+02, 7.83000e+00],\n",
              "         [2.14918e+00, 0.00000e+00, 1.95800e+01, ..., 1.47000e+01,\n",
              "          2.61950e+02, 1.57900e+01],\n",
              "         [1.43900e-02, 6.00000e+01, 2.93000e+00, ..., 1.56000e+01,\n",
              "          3.76700e+02, 4.38000e+00]]),\n",
              "  array([15.2, 42.3, 50. , 21.1, 17.7, 18.5, 11.3, 15.6, 15.6, 14.4, 12.1,\n",
              "         17.9, 23.1, 19.9, 15.7,  8.8, 50. , 22.5, 24.1, 27.5, 10.9, 30.8,\n",
              "         32.9, 24. , 18.5, 13.3, 22.9, 34.7, 16.6, 17.5, 22.3, 16.1, 14.9,\n",
              "         23.1, 34.9, 25. , 13.9, 13.1, 20.4, 20. , 15.2, 24.7, 22.2, 16.7,\n",
              "         12.7, 15.6, 18.4, 21. , 30.1, 15.1, 18.7,  9.6, 31.5, 24.8, 19.1,\n",
              "         22. , 14.5, 11. , 32. , 29.4, 20.3, 24.4, 14.6, 19.5, 14.1, 14.3,\n",
              "         15.6, 10.5,  6.3, 19.3, 19.3, 13.4, 36.4, 17.8, 13.5, 16.5,  8.3,\n",
              "         14.3, 16. , 13.4, 28.6, 43.5, 20.2, 22. , 23. , 20.7, 12.5, 48.5,\n",
              "         14.6, 13.4, 23.7, 50. , 21.7, 39.8, 38.7, 22.2, 34.9, 22.5, 31.1,\n",
              "         28.7, 46. , 41.7, 21. , 26.6, 15. , 24.4, 13.3, 21.2, 11.7, 21.7,\n",
              "         19.4, 50. , 22.8, 19.7, 24.7, 36.2, 14.2, 18.9, 18.3, 20.6, 24.6,\n",
              "         18.2,  8.7, 44. , 10.4, 13.2, 21.2, 37. , 30.7, 22.9, 20. , 19.3,\n",
              "         31.7, 32. , 23.1, 18.8, 10.9, 50. , 19.6,  5. , 14.4, 19.8, 13.8,\n",
              "         19.6, 23.9, 24.5, 25. , 19.9, 17.2, 24.6, 13.5, 26.6, 21.4, 11.9,\n",
              "         22.6, 19.6,  8.5, 23.7, 23.1, 22.4, 20.5, 23.6, 18.4, 35.2, 23.1,\n",
              "         27.9, 20.6, 23.7, 28. , 13.6, 27.1, 23.6, 20.6, 18.2, 21.7, 17.1,\n",
              "          8.4, 25.3, 13.8, 22.2, 18.4, 20.7, 31.6, 30.5, 20.3,  8.8, 19.2,\n",
              "         19.4, 23.1, 23. , 14.8, 48.8, 22.6, 33.4, 21.1, 13.6, 32.2, 13.1,\n",
              "         23.4, 18.9, 23.9, 11.8, 23.3, 22.8, 19.6, 16.7, 13.4, 22.2, 20.4,\n",
              "         21.8, 26.4, 14.9, 24.1, 23.8, 12.3, 29.1, 21. , 19.5, 23.3, 23.8,\n",
              "         17.8, 11.5, 21.7, 19.9, 25. , 33.4, 28.5, 21.4, 24.3, 27.5, 33.1,\n",
              "         16.2, 23.3, 48.3, 22.9, 22.8, 13.1, 12.7, 22.6, 15. , 15.3, 10.5,\n",
              "         24. , 18.5, 21.7, 19.5, 33.2, 23.2,  5. , 19.1, 12.7, 22.3, 10.2,\n",
              "         13.9, 16.3, 17. , 20.1, 29.9, 17.2, 37.3, 45.4, 17.8, 23.2, 29. ,\n",
              "         22. , 18. , 17.4, 34.6, 20.1, 25. , 15.6, 24.8, 28.2, 21.2, 21.4,\n",
              "         23.8, 31. , 26.2, 17.4, 37.9, 17.5, 20. ,  8.3, 23.9,  8.4, 13.8,\n",
              "          7.2, 11.7, 17.1, 21.6, 50. , 16.1, 20.4, 20.6, 21.4, 20.6, 36.5,\n",
              "          8.5, 24.8, 10.8, 21.9, 17.3, 18.9, 36.2, 14.9, 18.2, 33.3, 21.8,\n",
              "         19.7, 31.6, 24.8, 19.4, 22.8,  7.5, 44.8, 16.8, 18.7, 50. , 50. ,\n",
              "         19.5, 20.1, 50. , 17.2, 20.8, 19.3, 41.3, 20.4, 20.5, 13.8, 16.5,\n",
              "         23.9, 20.6, 31.5, 23.3, 16.8, 14. , 33.8, 36.1, 12.8, 18.3, 18.7,\n",
              "         19.1, 29. , 30.1, 50. , 50. , 22. , 11.9, 37.6, 50. , 22.7, 20.8,\n",
              "         23.5, 27.9, 50. , 19.3, 23.9, 22.6, 15.2, 21.7, 19.2, 43.8, 20.3,\n",
              "         33.2, 19.9, 22.5, 32.7, 22. , 17.1, 19. , 15. , 16.1, 25.1, 23.7,\n",
              "         28.7, 37.2, 22.6, 16.4, 25. , 29.8, 22.1, 17.4, 18.1, 30.3, 17.5,\n",
              "         24.7, 12.6, 26.5, 28.7, 13.3, 10.4, 24.4, 23. , 20. , 17.8,  7. ,\n",
              "         11.8, 24.4, 13.8, 19.4, 25.2, 19.4, 19.4, 29.1])),\n",
              " (array([[1.80846e+01, 0.00000e+00, 1.81000e+01, ..., 2.02000e+01,\n",
              "          2.72500e+01, 2.90500e+01],\n",
              "         [1.23290e-01, 0.00000e+00, 1.00100e+01, ..., 1.78000e+01,\n",
              "          3.94950e+02, 1.62100e+01],\n",
              "         [5.49700e-02, 0.00000e+00, 5.19000e+00, ..., 2.02000e+01,\n",
              "          3.96900e+02, 9.74000e+00],\n",
              "         ...,\n",
              "         [1.83377e+00, 0.00000e+00, 1.95800e+01, ..., 1.47000e+01,\n",
              "          3.89610e+02, 1.92000e+00],\n",
              "         [3.58090e-01, 0.00000e+00, 6.20000e+00, ..., 1.74000e+01,\n",
              "          3.91700e+02, 9.71000e+00],\n",
              "         [2.92400e+00, 0.00000e+00, 1.95800e+01, ..., 1.47000e+01,\n",
              "          2.40160e+02, 9.81000e+00]]),\n",
              "  array([ 7.2, 18.8, 19. , 27. , 22.2, 24.5, 31.2, 22.9, 20.5, 23.2, 18.6,\n",
              "         14.5, 17.8, 50. , 20.8, 24.3, 24.2, 19.8, 19.1, 22.7, 12. , 10.2,\n",
              "         20. , 18.5, 20.9, 23. , 27.5, 30.1,  9.5, 22. , 21.2, 14.1, 33.1,\n",
              "         23.4, 20.1,  7.4, 15.4, 23.8, 20.1, 24.5, 33. , 28.4, 14.1, 46.7,\n",
              "         32.5, 29.6, 28.4, 19.8, 20.2, 25. , 35.4, 20.3,  9.7, 14.5, 34.9,\n",
              "         26.6,  7.2, 50. , 32.4, 21.6, 29.8, 13.1, 27.5, 21.2, 23.1, 21.9,\n",
              "         13. , 23.2,  8.1,  5.6, 21.7, 29.6, 19.6,  7. , 26.4, 18.9, 20.9,\n",
              "         28.1, 35.4, 10.2, 24.3, 43.1, 17.6, 15.4, 16.2, 27.1, 21.4, 21.5,\n",
              "         22.4, 25. , 16.6, 18.6, 22. , 42.8, 35.1, 21.5, 36. , 21.9, 24.1,\n",
              "         50. , 26.7, 25. ])))"
            ]
          },
          "metadata": {},
          "execution_count": 57
        }
      ]
    },
    {
      "cell_type": "code",
      "source": [
        ""
      ],
      "metadata": {
        "id": "j3tFl3gxH6tp"
      },
      "execution_count": null,
      "outputs": []
    }
  ]
}